{
 "cells": [
  {
   "cell_type": "code",
   "execution_count": 1,
   "metadata": {},
   "outputs": [],
   "source": [
    "# import the usual suspects\n",
    "import os\n",
    "import rdkit\n",
    "from rdkit import Chem\n",
    "import pandas as pd\n",
    "from time import time\n",
    "import numpy as np\n",
    "import sys\n",
    "sys.path.append('..')\n",
    "from conversions import MolToScaffoldTransformer"
   ]
  },
  {
   "cell_type": "markdown",
   "metadata": {},
   "source": []
  },
  {
   "cell_type": "code",
   "execution_count": 2,
   "metadata": {},
   "outputs": [],
   "source": [
    "## import dataset ##"
   ]
  },
  {
   "cell_type": "code",
   "execution_count": 3,
   "metadata": {},
   "outputs": [],
   "source": [
    "csv_file = \"../../tests/data/SLC6A4_active_excapedb_subset.csv\"\n",
    "data = pd.read_csv(csv_file)"
   ]
  },
  {
   "cell_type": "code",
   "execution_count": 4,
   "metadata": {},
   "outputs": [
    {
     "data": {
      "text/html": [
       "<div>\n",
       "<style scoped>\n",
       "    .dataframe tbody tr th:only-of-type {\n",
       "        vertical-align: middle;\n",
       "    }\n",
       "\n",
       "    .dataframe tbody tr th {\n",
       "        vertical-align: top;\n",
       "    }\n",
       "\n",
       "    .dataframe thead th {\n",
       "        text-align: right;\n",
       "    }\n",
       "</style>\n",
       "<table border=\"1\" class=\"dataframe\">\n",
       "  <thead>\n",
       "    <tr style=\"text-align: right;\">\n",
       "      <th></th>\n",
       "      <th>Ambit_InchiKey</th>\n",
       "      <th>SMILES</th>\n",
       "      <th>pXC50</th>\n",
       "    </tr>\n",
       "  </thead>\n",
       "  <tbody>\n",
       "    <tr>\n",
       "      <th>0</th>\n",
       "      <td>RBCQCVSMIQCOMN-PCQZLOAONA-N</td>\n",
       "      <td>C12C([C@@H](OC(C=3C=CC(=CC3)F)C=4C=CC(=CC4)F)C...</td>\n",
       "      <td>6.26000</td>\n",
       "    </tr>\n",
       "    <tr>\n",
       "      <th>1</th>\n",
       "      <td>ALZTYVXVRZIERJ-UHFFFAOYNA-N</td>\n",
       "      <td>O(C1=NC=C2C(CN(CC2=C1)C)C3=CC=C(OC)C=C3)CCCN(C...</td>\n",
       "      <td>7.18046</td>\n",
       "    </tr>\n",
       "    <tr>\n",
       "      <th>2</th>\n",
       "      <td>MOEMPBAHOJKXBG-MRXNPFEDNA-N</td>\n",
       "      <td>O=S(=O)(N(CC=1C=CC2=CC=CC=C2C1)[C@@H]3CCNC3)C</td>\n",
       "      <td>7.77000</td>\n",
       "    </tr>\n",
       "    <tr>\n",
       "      <th>3</th>\n",
       "      <td>HEKGBDCRHYILPL-QWOVJGMINA-N</td>\n",
       "      <td>C1(=C2C(CCCC2O)=NC=3C1=CC=CC3)NCC=4C=CC(=CC4)Cl</td>\n",
       "      <td>5.24000</td>\n",
       "    </tr>\n",
       "    <tr>\n",
       "      <th>4</th>\n",
       "      <td>SNNRWIBSGBMYRF-UKRRQHHQNA-N</td>\n",
       "      <td>C1NC[C@@H](C1)[C@H](OC=2C=CC(=NC2C)OC)CC(C)C</td>\n",
       "      <td>9.12000</td>\n",
       "    </tr>\n",
       "  </tbody>\n",
       "</table>\n",
       "</div>"
      ],
      "text/plain": [
       "                Ambit_InchiKey  \\\n",
       "0  RBCQCVSMIQCOMN-PCQZLOAONA-N   \n",
       "1  ALZTYVXVRZIERJ-UHFFFAOYNA-N   \n",
       "2  MOEMPBAHOJKXBG-MRXNPFEDNA-N   \n",
       "3  HEKGBDCRHYILPL-QWOVJGMINA-N   \n",
       "4  SNNRWIBSGBMYRF-UKRRQHHQNA-N   \n",
       "\n",
       "                                              SMILES    pXC50  \n",
       "0  C12C([C@@H](OC(C=3C=CC(=CC3)F)C=4C=CC(=CC4)F)C...  6.26000  \n",
       "1  O(C1=NC=C2C(CN(CC2=C1)C)C3=CC=C(OC)C=C3)CCCN(C...  7.18046  \n",
       "2      O=S(=O)(N(CC=1C=CC2=CC=CC=C2C1)[C@@H]3CCNC3)C  7.77000  \n",
       "3    C1(=C2C(CCCC2O)=NC=3C1=CC=CC3)NCC=4C=CC(=CC4)Cl  5.24000  \n",
       "4       C1NC[C@@H](C1)[C@H](OC=2C=CC(=NC2C)OC)CC(C)C  9.12000  "
      ]
     },
     "execution_count": 4,
     "metadata": {},
     "output_type": "execute_result"
    }
   ],
   "source": [
    "data.head()"
   ]
  },
  {
   "cell_type": "code",
   "execution_count": 5,
   "metadata": {},
   "outputs": [],
   "source": [
    "transformer =  MolToScaffoldTransformer()"
   ]
  },
  {
   "cell_type": "code",
   "execution_count": 6,
   "metadata": {},
   "outputs": [],
   "source": [
    "mols = transformer.transform(data['SMILES'])"
   ]
  },
  {
   "cell_type": "code",
   "execution_count": 7,
   "metadata": {},
   "outputs": [],
   "source": [
    "data['scaffolds'] = mols.reshape(len(mols))"
   ]
  },
  {
   "cell_type": "code",
   "execution_count": 8,
   "metadata": {},
   "outputs": [
    {
     "data": {
      "image/png": "[encoded data removed]",
      "text/plain": [
       "<rdkit.Chem.rdchem.Mol at 0x12856a960>"
      ]
     },
     "execution_count": 8,
     "metadata": {},
     "output_type": "execute_result"
    }
   ],
   "source": [
    "transformer.scaffolds[0]"
   ]
  },
  {
   "cell_type": "code",
   "execution_count": 9,
   "metadata": {},
   "outputs": [],
   "source": [
    "data['scaffold_smiles'] = transformer._create_smiles_from_mol()"
   ]
  },
  {
   "cell_type": "code",
   "execution_count": 10,
   "metadata": {},
   "outputs": [],
   "source": [
    "data['scaffold_ids'] = transformer.get_unique_scaffold_ids()"
   ]
  },
  {
   "cell_type": "code",
   "execution_count": 11,
   "metadata": {},
   "outputs": [
    {
     "data": {
      "text/plain": [
       "0     86\n",
       "1     78\n",
       "2    153\n",
       "3    102\n",
       "4    158\n",
       "Name: scaffold_ids, dtype: int64"
      ]
     },
     "execution_count": 11,
     "metadata": {},
     "output_type": "execute_result"
    }
   ],
   "source": [
    "data['scaffold_ids'].head()"
   ]
  },
  {
   "cell_type": "code",
   "execution_count": 16,
   "metadata": {},
   "outputs": [
    {
     "data": {
      "text/plain": [
       "161"
      ]
     },
     "execution_count": 16,
     "metadata": {},
     "output_type": "execute_result"
    }
   ],
   "source": [
    "len(data['scaffold_ids'].unique())"
   ]
  },
  {
   "cell_type": "code",
   "execution_count": 12,
   "metadata": {},
   "outputs": [
    {
     "data": {
      "text/plain": [
       "0      c1ccc(CCCCCN2C3CCC2CC(OC(c2ccccc2)c2ccccc2)C3)cc1\n",
       "1                               c1ccc(C2CNCc3ccncc32)cc1\n",
       "2                         c1ccc2cc(CN[C@@H]3CCNC3)ccc2c1\n",
       "3                     c1ccc(CNc2c3c(nc4ccccc24)CCCC3)cc1\n",
       "4                               c1cncc(OC[C@@H]2CCNC2)c1\n",
       "                             ...                        \n",
       "195                  c1ccc(-c2nnn(Cc3ccc4ccccc4c3)n2)cc1\n",
       "196                       c1ccc(OC(c2ccccc2)C2CCCNC2)cc1\n",
       "197    c1cnn(-c2ccc([C@@H]3CN4CCC[C@@H]4c4cc(OCCCN5CC...\n",
       "198                        c1ccc(C2[C@H]3CNC[C@@H]23)cc1\n",
       "199                        c1ccc(C(c2ccccc2)c2ccncc2)cc1\n",
       "Name: scaffold_smiles, Length: 200, dtype: object"
      ]
     },
     "execution_count": 12,
     "metadata": {},
     "output_type": "execute_result"
    }
   ],
   "source": [
    "data['scaffold_smiles']"
   ]
  },
  {
   "cell_type": "code",
   "execution_count": null,
   "metadata": {},
   "outputs": [],
   "source": []
  }
 ],
 "metadata": {
  "kernelspec": {
   "display_name": "scikit_mol",
   "language": "python",
   "name": "python3"
  },
  "language_info": {
   "codemirror_mode": {
    "name": "ipython",
    "version": 3
   },
   "file_extension": ".py",
   "mimetype": "text/x-python",
   "name": "python",
   "nbconvert_exporter": "python",
   "pygments_lexer": "ipython3",
   "version": "3.13.4"
  }
 },
 "nbformat": 4,
 "nbformat_minor": 2
}
